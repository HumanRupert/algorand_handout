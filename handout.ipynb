{
 "cells": [
  {
   "cell_type": "markdown",
   "metadata": {},
   "source": [
    "In this document, we provide a brief tutorial on using CoinMarketCap Pro API to access cryptocurrency data. We'll display how to access exchange trading volume and cryptocurrency OHLCV data, but using other endpoints are essentially similar.\n",
    "\n",
    "The only dependencies necessary to run the illustration are `load_dotenv` and `requests`."
   ]
  },
  {
   "cell_type": "code",
   "execution_count": 13,
   "metadata": {},
   "outputs": [
    {
     "data": {
      "text/plain": [
       "True"
      ]
     },
     "execution_count": 13,
     "metadata": {},
     "output_type": "execute_result"
    }
   ],
   "source": [
    "import os\n",
    "import requests\n",
    "\n",
    "from dotenv import load_dotenv\n",
    "load_dotenv()"
   ]
  },
  {
   "cell_type": "markdown",
   "metadata": {},
   "source": [
    "Define a class which will contain the logic for accessing the API. The user can either pass `api_key` parameter directly to the `__init__` method or set it as an environment variable. The implementation supports `.env` files as `load_dotenv` has been called. Default base URL is automatically selected based on the existence of a paid API key, but can be overridden if the parameter is set by the user."
   ]
  },
  {
   "cell_type": "code",
   "execution_count": 11,
   "metadata": {},
   "outputs": [],
   "source": [
    "class CMC(object):\n",
    "\n",
    "    _session = None\n",
    "    __DEFAULT_BASE_URL = 'https://api.coinmarketcap.com/'\n",
    "    __PRO_BASE_URL = 'https://pro-api.coinmarketcap.com/'\n",
    "    __DEFAULT_TIMEOUT = 30\n",
    "    __API_KEY_ENV_KEY = \"CMC_PRO_API_KEY\"\n",
    "\n",
    "    def __init__(self, api_key=None, base_url=None, request_timeout=__DEFAULT_TIMEOUT):\n",
    "        self.api_key = api_key or os.getenv(self.__API_KEY_ENV_KEY)\n",
    "        if (not base_url):\n",
    "            base_url = self.__PRO_BASE_URL if self.api_key \\\n",
    "                else self.__DEFAULT_BASE_URL\n",
    "\n",
    "        self.base_url = base_url\n",
    "        self.request_timeout = request_timeout"
   ]
  },
  {
   "cell_type": "markdown",
   "metadata": {},
   "source": [
    "Add the `session` property, which persists the API key across all requests. Furthermore, a `Session` instance uses a connection pool and reuses the TCP connection, which will lead to a significant increase in performance."
   ]
  },
  {
   "cell_type": "code",
   "execution_count": 5,
   "metadata": {},
   "outputs": [],
   "source": [
    "class CMC(object):\n",
    "\n",
    "    _session = None\n",
    "    __DEFAULT_BASE_URL = 'https://api.coinmarketcap.com/'\n",
    "    __PRO_BASE_URL = 'https://pro-api.coinmarketcap.com/'\n",
    "    __DEFAULT_TIMEOUT = 30\n",
    "    __API_KEY_ENV_KEY = \"CMC_PRO_API_KEY\"\n",
    "\n",
    "    def __init__(self, api_key=None, base_url=None, request_timeout=__DEFAULT_TIMEOUT):\n",
    "        self.api_key = api_key or os.getenv(self.__API_KEY_ENV_KEY)\n",
    "        if (not base_url):\n",
    "            base_url = self.__PRO_BASE_URL if self.api_key \\\n",
    "                else self.__DEFAULT_BASE_URL\n",
    "\n",
    "        self.base_url = base_url\n",
    "        self.request_timeout = request_timeout\n",
    "\n",
    "    @property\n",
    "    def session(self):\n",
    "        if (self._session):\n",
    "            return self._session\n",
    "        self._session = requests.Session()\n",
    "        self._session.headers.update({'Content-Type': 'application/json'})\n",
    "        if (self.api_key):\n",
    "            self._session.headers.update({\"X-CMC_PRO_API_KEY\": self.api_key})\n",
    "        return self._session"
   ]
  },
  {
   "cell_type": "markdown",
   "metadata": {},
   "source": [
    "Define a private method, `__make_req`, which will be used by public methods to send requests to the API. `__make_req` receives the endpoint address, a dictionary of parameters, which must comply the format explained in the endoint's documentation, and the version of the endpoint. If the API returns an error, it'll be automatically raised. Otherwise, the response will be converted to a `dict` object and returned."
   ]
  },
  {
   "cell_type": "code",
   "execution_count": 6,
   "metadata": {},
   "outputs": [],
   "source": [
    "class CMC(object):\n",
    "\n",
    "    _session = None\n",
    "    __DEFAULT_BASE_URL = 'https://api.coinmarketcap.com/'\n",
    "    __PRO_BASE_URL = 'https://pro-api.coinmarketcap.com/'\n",
    "    __DEFAULT_TIMEOUT = 30\n",
    "    __API_KEY_ENV_KEY = \"CMC_PRO_API_KEY\"\n",
    "\n",
    "    def __init__(self, api_key=None, base_url=None, request_timeout=__DEFAULT_TIMEOUT):\n",
    "        self.api_key = api_key or os.getenv(self.__API_KEY_ENV_KEY)\n",
    "        if (not base_url):\n",
    "            base_url = self.__PRO_BASE_URL if self.api_key \\\n",
    "                else self.__DEFAULT_BASE_URL\n",
    "\n",
    "        self.base_url = base_url\n",
    "        self.request_timeout = request_timeout\n",
    "\n",
    "    @property\n",
    "    def session(self):\n",
    "        if (self._session):\n",
    "            return self._session\n",
    "        self._session = requests.Session()\n",
    "        self._session.headers.update({'Content-Type': 'application/json'})\n",
    "        if (self.api_key):\n",
    "            self._session.headers.update({\"X-CMC_PRO_API_KEY\": self.api_key})\n",
    "        return self._session\n",
    "\n",
    "    def __make_req(self, endpoint, params, v):\n",
    "        if (self.api_key):\n",
    "            params[\"CMC_PRO_API_KEY\"] = self.api_key\n",
    "\n",
    "        url = self.base_url + f\"{v}/\" + endpoint\n",
    "        response_object = self.session.get(\n",
    "            url, params=params, timeout=self.request_timeout)\n",
    "\n",
    "        response_object.raise_for_status()\n",
    "\n",
    "        return response_object.json()"
   ]
  },
  {
   "cell_type": "markdown",
   "metadata": {},
   "source": [
    "Time to add the public methods. We'll define methods for cryptocurrency OHLCV and exchange quotes endpoints."
   ]
  },
  {
   "cell_type": "code",
   "execution_count": 30,
   "metadata": {},
   "outputs": [],
   "source": [
    "class CMC(object):\n",
    "\n",
    "    _session = None\n",
    "    __DEFAULT_BASE_URL = 'https://api.coinmarketcap.com/'\n",
    "    __PRO_BASE_URL = 'https://pro-api.coinmarketcap.com/'\n",
    "    __DEFAULT_TIMEOUT = 30\n",
    "    __API_KEY_ENV_KEY = \"CMC_PRO_API_KEY\"\n",
    "\n",
    "    def __init__(self, api_key=None, base_url=None, request_timeout=__DEFAULT_TIMEOUT):\n",
    "        self.api_key = api_key or os.getenv(self.__API_KEY_ENV_KEY)\n",
    "        if (not base_url):\n",
    "            base_url = self.__PRO_BASE_URL if self.api_key \\\n",
    "                else self.__DEFAULT_BASE_URL\n",
    "\n",
    "        self.base_url = base_url\n",
    "        self.request_timeout = request_timeout\n",
    "\n",
    "    @property\n",
    "    def session(self):\n",
    "        if (self._session):\n",
    "            return self._session\n",
    "        self._session = requests.Session()\n",
    "        self._session.headers.update({'Content-Type': 'application/json'})\n",
    "        if (self.api_key):\n",
    "            self._session.headers.update({\"X-CMC_PRO_API_KEY\": self.api_key})\n",
    "        return self._session\n",
    "\n",
    "    def __make_req(self, endpoint, params, v):\n",
    "        url = self.base_url + f\"{v}/\" + endpoint\n",
    "        response_object = self.session.get(\n",
    "            url, params=params, timeout=self.request_timeout)\n",
    "        \n",
    "        response_object.raise_for_status()\n",
    "\n",
    "        return response_object.json()\n",
    "    \n",
    "    def ohlcv_historical(self, params):\n",
    "        \"https://coinmarketcap.com/api/documentation/v1/#operation/getV2CryptocurrencyOhlcvHistorical\"\n",
    "        return self.__make_req('cryptocurrency/ohlcv/historical', params, \"v2\")\n",
    "\n",
    "\n",
    "    def quotes_historical(self, params):\n",
    "        \"https://coinmarketcap.com/api/documentation/v1/#operation/getV1ExchangeQuotesHistorical\"\n",
    "        return self.__make_req(\"exchange/quotes/historical\", params, \"v1\")"
   ]
  },
  {
   "cell_type": "markdown",
   "metadata": {},
   "source": [
    "The user can access the data now."
   ]
  },
  {
   "cell_type": "code",
   "execution_count": 34,
   "metadata": {},
   "outputs": [
    {
     "data": {
      "text/plain": [
       "{'status': {'timestamp': '2022-09-06T14:55:37.113Z',\n",
       "  'error_code': 0,\n",
       "  'error_message': None,\n",
       "  'elapsed': 22,\n",
       "  'credit_count': 1,\n",
       "  'notice': None},\n",
       " 'data': {'binance': {'quotes': [{'timestamp': '2022-09-06T14:50:12.000Z',\n",
       "     'quote': {'USD': {'volume_24h': 73522805073.14716,\n",
       "       'timestamp': '2022-09-06T14:50:12.000Z'}},\n",
       "     'num_market_pairs': 1702}],\n",
       "   'id': 270,\n",
       "   'name': 'Binance',\n",
       "   'slug': 'binance'},\n",
       "  'kraken': {'quotes': [{'timestamp': '2022-09-06T14:50:11.000Z',\n",
       "     'quote': {'USD': {'volume_24h': 708319460.386547,\n",
       "       'timestamp': '2022-09-06T14:50:11.000Z'}},\n",
       "     'num_market_pairs': 619}],\n",
       "   'id': 24,\n",
       "   'name': 'Kraken',\n",
       "   'slug': 'kraken'}}}"
      ]
     },
     "execution_count": 34,
     "metadata": {},
     "output_type": "execute_result"
    }
   ],
   "source": [
    "cmc = CMC()\n",
    "cmc.quotes_historical({\"slug\": \"kraken,binance\", \"count\": \"1\"})"
   ]
  },
  {
   "cell_type": "code",
   "execution_count": 44,
   "metadata": {},
   "outputs": [
    {
     "data": {
      "text/plain": [
       "{'status': {'timestamp': '2022-09-06T14:56:37.730Z',\n",
       "  'error_code': 0,\n",
       "  'error_message': None,\n",
       "  'elapsed': 46,\n",
       "  'credit_count': 1,\n",
       "  'notice': None},\n",
       " 'data': {'bitcoin': {'id': 1,\n",
       "   'name': 'Bitcoin',\n",
       "   'symbol': 'BTC',\n",
       "   'quotes': [{'time_open': '2022-09-05T00:00:00.000Z',\n",
       "     'time_close': '2022-09-05T23:59:59.999Z',\n",
       "     'time_high': '2022-09-05T00:05:00.000Z',\n",
       "     'time_low': '2022-09-05T11:33:00.000Z',\n",
       "     'quote': {'USD': {'open': 19988.789818433175,\n",
       "       'high': 20031.160251574245,\n",
       "       'low': 19673.04733875358,\n",
       "       'close': 19812.37147875423,\n",
       "       'volume': 28813460025.44,\n",
       "       'market_cap': 379258182345.46,\n",
       "       'timestamp': '2022-09-05T23:59:59.999Z'}}}]},\n",
       "  'ethereum': {'id': 1027,\n",
       "   'name': 'Ethereum',\n",
       "   'symbol': 'ETH',\n",
       "   'quotes': [{'time_open': '2022-09-05T00:00:00.000Z',\n",
       "     'time_close': '2022-09-05T23:59:59.999Z',\n",
       "     'time_high': '2022-09-05T23:53:00.000Z',\n",
       "     'time_low': '2022-09-05T10:49:00.000Z',\n",
       "     'quote': {'USD': {'open': 1577.8840180830987,\n",
       "       'high': 1621.6613269896013,\n",
       "       'low': 1559.7818599396107,\n",
       "       'close': 1617.1831725776572,\n",
       "       'volume': 13060541167.94,\n",
       "       'market_cap': 197707916935.92,\n",
       "       'timestamp': '2022-09-05T23:59:59.999Z'}}}]}}}"
      ]
     },
     "execution_count": 44,
     "metadata": {},
     "output_type": "execute_result"
    }
   ],
   "source": [
    "cmc.ohlcv_historical({\"slug\": \"bitcoin,ethereum\", \"count\": \"2\"})"
   ]
  }
 ],
 "metadata": {
  "kernelspec": {
   "display_name": "Python 3.8.10 ('env': venv)",
   "language": "python",
   "name": "python3"
  },
  "language_info": {
   "codemirror_mode": {
    "name": "ipython",
    "version": 3
   },
   "file_extension": ".py",
   "mimetype": "text/x-python",
   "name": "python",
   "nbconvert_exporter": "python",
   "pygments_lexer": "ipython3",
   "version": "3.8.10"
  },
  "orig_nbformat": 4,
  "vscode": {
   "interpreter": {
    "hash": "5c4e933a911fd70a53697e113e123e59729f6bdc5e65f272286516eae437d345"
   }
  }
 },
 "nbformat": 4,
 "nbformat_minor": 2
}
